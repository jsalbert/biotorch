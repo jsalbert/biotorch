{
 "cells": [
  {
   "cell_type": "code",
   "execution_count": null,
   "id": "8f84970e",
   "metadata": {},
   "outputs": [],
   "source": [
    "import torch\n",
    "from biotorch.models.weight_mirroring.resnet import resnet18, resnet34, resnet50, wide_resnet101_2\n",
    "from biotorch.training.metrics import compute_angles_module"
   ]
  },
  {
   "cell_type": "code",
   "execution_count": null,
   "id": "3efae9b6",
   "metadata": {},
   "outputs": [],
   "source": [
    "# Test the whole model\n",
    "model = resnet18(pretrained=False, num_classes=10)\n",
    "# model = model.to('cuda')\n",
    "\n",
    "x = torch.randn((10, 3, 224, 224)).to(model.device)\n",
    "\n",
    "for i in range(10000):\n",
    "    model.mirror_weights(x, \n",
    "                         mirror_learning_rate=0.01,\n",
    "                         noise_amplitude=0.1,\n",
    "                         growth_control=False,\n",
    "                         damping_factor=0.5)\n",
    "    \n",
    "    layers_alignment = compute_angles_module(model)\n",
    "    if i % 100 == 0:\n",
    "        print(layers_alignment)"
   ]
  },
  {
   "cell_type": "code",
   "execution_count": null,
   "id": "5ce511ad",
   "metadata": {},
   "outputs": [],
   "source": [
    "layers_alignment"
   ]
  },
  {
   "cell_type": "code",
   "execution_count": null,
   "id": "d19eb567",
   "metadata": {},
   "outputs": [],
   "source": [
    "# Test 1 convolution layer\n",
    "model = resnet18(pretrained=False, num_classes=10)\n",
    "conv_layer = model.conv1\n",
    "noise_amplitude = 0.1\n",
    "for i in range(10000):\n",
    "    with torch.no_grad():\n",
    "        input_noise = noise_amplitude * torch.randn((10, 3, 224, 224)\n",
    "        output_noise = conv_layer(input_noise)\n",
    "        conv_layer.update_B(input_noise,\n",
    "                             output_noise,\n",
    "                             mirror_learning_rate=0.01,\n",
    "                             growth_control=False,\n",
    "                             damping_factor=1.0)\n",
    "        print(compute_matrix_angle(conv_layer.weight, conv_layer.weight_backward))"
   ]
  },
  {
   "cell_type": "code",
   "execution_count": null,
   "id": "0b760357",
   "metadata": {},
   "outputs": [],
   "source": [
    "# Test 1 FC layer\n",
    "model = resnet18(pretrained=False, num_classes=10)\n",
    "linear_layer = model.fc\n",
    "noise_amplitude = 0.1\n",
    "for i in range(10000):\n",
    "    with torch.no_grad():\n",
    "        input_noise = noise_amplitude * torch.randn(12, 512)\n",
    "        output_noise = linear_layer(input_noise)\n",
    "        linear_layer.update_B(input_noise,\n",
    "                             output_noise,\n",
    "                             mirror_learning_rate=0.01,\n",
    "                             growth_control=False,\n",
    "                             damping_factor=1.0)\n",
    "        print(compute_matrix_angle(linear_layer.weight, linear_layer.weight_backward))"
   ]
  }
 ],
 "metadata": {
  "kernelspec": {
   "display_name": "biotorch",
   "language": "python",
   "name": "makrout"
  },
  "language_info": {
   "codemirror_mode": {
    "name": "ipython",
    "version": 3
   },
   "file_extension": ".py",
   "mimetype": "text/x-python",
   "name": "python",
   "nbconvert_exporter": "python",
   "pygments_lexer": "ipython3",
   "version": "3.8.5"
  }
 },
 "nbformat": 4,
 "nbformat_minor": 5
}
