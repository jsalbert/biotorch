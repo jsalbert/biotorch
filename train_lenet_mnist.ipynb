{
 "cells": [
  {
   "cell_type": "code",
   "execution_count": 1,
   "id": "optical-germany",
   "metadata": {},
   "outputs": [],
   "source": [
    "import os\n",
    "import time\n",
    "import torch\n",
    "import torchvision\n",
    "import torch.nn as nn\n",
    "import torch.optim as optim\n",
    "import torch.nn.functional as F\n",
    "import torch.backends.cudnn as cudnn\n",
    "\n",
    "from torch import autograd\n",
    "from torch.autograd import Variable\n",
    "from torch.utils.data import DataLoader\n",
    "\n",
    "from torchvision import datasets, transforms\n",
    "from biotorch.initialization.functions import add_fa_weight_matrices, override_backward"
   ]
  },
  {
   "cell_type": "markdown",
   "id": "ad90da05",
   "metadata": {},
   "source": [
    "## Define Model"
   ]
  },
  {
   "cell_type": "code",
   "execution_count": 2,
   "id": "a5dd3050",
   "metadata": {},
   "outputs": [],
   "source": [
    "class LeNet(nn.Module):\n",
    "    \"\"\"\n",
    "    Classic LeNet Architecture\n",
    "    \"\"\"\n",
    "\n",
    "    def __init__(self, activation='tanh'):\n",
    "        \"\"\"\n",
    "        :param in_features: dimension of input features (784 for MNIST)\n",
    "        :param num_layers: number of layers for feed-forward net\n",
    "        :param num_hidden_list: list of integers indicating hidden nodes of each layer\n",
    "        \"\"\"\n",
    "        super(LeNet, self).__init__()\n",
    "\n",
    "        if activation == 'relu':\n",
    "            self.activation = torch.relu\n",
    "        elif activation == 'tanh':\n",
    "            self.activation = torch.tanh\n",
    "        elif activation == 'sigmoid':\n",
    "            self.activation = torch.sigmoid\n",
    "\n",
    "        # create layer operations\n",
    "        self.conv1 = nn.Conv2d(in_channels=1, out_channels=20, kernel_size=5, stride=1)\n",
    "        self.conv2 = nn.Conv2d(in_channels=20, out_channels=50, kernel_size=5, stride=1)\n",
    "        self.pool = nn.MaxPool2d(2, 2)\n",
    "        self.fc1 = nn.Linear(4 * 4 * 50, 500)\n",
    "        self.fc2 = nn.Linear(500, 10)\n",
    "\n",
    "    def forward(self, inputs):\n",
    "        \"\"\"\n",
    "        forward pass, which is same for conventional feed-forward net\n",
    "        :param inputs: inputs with shape [batch_size, in_features]\n",
    "        :return: logit outputs from the network\n",
    "        \"\"\"\n",
    "        inputs = self.activation(self.conv1(inputs))\n",
    "        inputs = self.pool(inputs)\n",
    "\n",
    "        inputs = self.activation(self.conv2(inputs))\n",
    "        inputs = self.pool(inputs)\n",
    "\n",
    "        inputs = inputs.view(inputs.size()[0], -1)\n",
    "\n",
    "        inputs = self.activation(self.fc1(inputs))\n",
    "        inputs = self.fc2(inputs)\n",
    "        return inputs"
   ]
  },
  {
   "cell_type": "markdown",
   "id": "85bc1974",
   "metadata": {},
   "source": [
    "## Test Function"
   ]
  },
  {
   "cell_type": "code",
   "execution_count": 3,
   "id": "colored-internet",
   "metadata": {},
   "outputs": [],
   "source": [
    "def test(model, test_loader, batch_size):\n",
    "    test_loss = 0\n",
    "    correct = 0\n",
    "    # Desactivate the autograd engine in test\n",
    "    with torch.no_grad():\n",
    "        for data, target in test_loader:\n",
    "            #data = data.view(batch_size, -1)\n",
    "            inputs, targets = Variable(data), Variable(target)\n",
    "            predictions = model(inputs)\n",
    "            predictions = torch.squeeze(predictions)\n",
    "            test_loss += F.nll_loss(predictions, targets, size_average=False).item()\n",
    "            pred = predictions.data.max(1, keepdim=True)[1]\n",
    "            correct += pred.eq(targets.data.view_as(pred)).sum()\n",
    "\n",
    "    test_loss /= len(test_loader.dataset)\n",
    "    return test_loss, correct"
   ]
  },
  {
   "cell_type": "markdown",
   "id": "7d904d54",
   "metadata": {},
   "source": [
    "## Training code"
   ]
  },
  {
   "cell_type": "code",
   "execution_count": 4,
   "id": "4c64f2ba",
   "metadata": {},
   "outputs": [],
   "source": [
    "device = 'cuda' if torch.cuda.is_available() else 'cpu'\n",
    "best_acc = 0  # best test accuracy\n",
    "start_epoch = 0\n",
    "\n",
    "batch_size = 32"
   ]
  },
  {
   "cell_type": "code",
   "execution_count": 5,
   "id": "developmental-stanley",
   "metadata": {},
   "outputs": [
    {
     "name": "stdout",
     "output_type": "stream",
     "text": [
      "==> Preparing data..\n",
      "Downloading http://yann.lecun.com/exdb/mnist/train-images-idx3-ubyte.gz\n",
      "Failed to download (trying next):\n",
      "HTTP Error 503: Service Unavailable\n",
      "\n",
      "Downloading https://ossci-datasets.s3.amazonaws.com/mnist/train-images-idx3-ubyte.gz\n",
      "Downloading https://ossci-datasets.s3.amazonaws.com/mnist/train-images-idx3-ubyte.gz to ./data/MNIST/raw/train-images-idx3-ubyte.gz\n"
     ]
    },
    {
     "name": "stderr",
     "output_type": "stream",
     "text": [
      "99.1%IOPub message rate exceeded.\n",
      "The notebook server will temporarily stop sending output\n",
      "to the client in order to avoid crashing it.\n",
      "To change this limit, set the config variable\n",
      "`--NotebookApp.iopub_msg_rate_limit`.\n",
      "\n",
      "Current values:\n",
      "NotebookApp.iopub_msg_rate_limit=1000.0 (msgs/sec)\n",
      "NotebookApp.rate_limit_window=3.0 (secs)\n",
      "\n",
      "100.0%\n"
     ]
    },
    {
     "name": "stdout",
     "output_type": "stream",
     "text": [
      "Extracting ./data/MNIST/raw/t10k-images-idx3-ubyte.gz to ./data/MNIST/raw\n",
      "\n",
      "Downloading http://yann.lecun.com/exdb/mnist/t10k-labels-idx1-ubyte.gz\n",
      "Failed to download (trying next):\n",
      "HTTP Error 503: Service Unavailable\n",
      "\n",
      "Downloading https://ossci-datasets.s3.amazonaws.com/mnist/t10k-labels-idx1-ubyte.gz\n",
      "Downloading https://ossci-datasets.s3.amazonaws.com/mnist/t10k-labels-idx1-ubyte.gz to ./data/MNIST/raw/t10k-labels-idx1-ubyte.gz\n"
     ]
    },
    {
     "name": "stderr",
     "output_type": "stream",
     "text": [
      "112.7%"
     ]
    },
    {
     "name": "stdout",
     "output_type": "stream",
     "text": [
      "Extracting ./data/MNIST/raw/t10k-labels-idx1-ubyte.gz to ./data/MNIST/raw\n",
      "\n",
      "Processing...\n",
      "Done!\n"
     ]
    },
    {
     "name": "stderr",
     "output_type": "stream",
     "text": [
      "\n",
      "/home/makrout/Documents/PhD/collaboration/albert/biotorch/.venv/lib/python3.6/site-packages/torchvision/datasets/mnist.py:502: UserWarning: The given NumPy array is not writeable, and PyTorch does not support non-writeable tensors. This means you can write to the underlying (supposedly non-writeable) NumPy array using the tensor. You may want to copy the array to protect its data or make it writeable before converting it to a tensor. This type of warning will be suppressed for the rest of this program. (Triggered internally at  /pytorch/torch/csrc/utils/tensor_numpy.cpp:143.)\n",
      "  return torch.from_numpy(parsed.astype(m[2], copy=False)).view(*s)\n"
     ]
    }
   ],
   "source": [
    "# set up datasets\n",
    "print('==> Preparing data..')\n",
    "\n",
    "train_loader = DataLoader(datasets.MNIST('./data', train=True, download=True,\n",
    "                                             transform=transforms.Compose([\n",
    "                                                 transforms.ToTensor(),\n",
    "                                                 transforms.Normalize((0.1307,), (0.3081,))\n",
    "                                             ])),\n",
    "                              batch_size=batch_size, shuffle=True, drop_last=True)\n",
    "\n",
    "test_loader = DataLoader(datasets.MNIST('./data', train=False, download=True,\n",
    "                                            transform=transforms.Compose([\n",
    "                                                transforms.ToTensor(),\n",
    "                                                transforms.Normalize((0.1307,), (0.3081,))\n",
    "                                            ])),\n",
    "                             batch_size=batch_size, shuffle=False, drop_last=True)"
   ]
  },
  {
   "cell_type": "code",
   "execution_count": 6,
   "id": "1085edff",
   "metadata": {},
   "outputs": [],
   "source": [
    "cudnn.benchmark = True"
   ]
  },
  {
   "cell_type": "code",
   "execution_count": 7,
   "id": "standard-screw",
   "metadata": {},
   "outputs": [],
   "source": [
    "# Create Back Propagation Model\n",
    "model_bp = LeNet()"
   ]
  },
  {
   "cell_type": "code",
   "execution_count": 8,
   "id": "38b6a2f9",
   "metadata": {},
   "outputs": [
    {
     "data": {
      "text/plain": [
       "LeNet(\n",
       "  (conv1): Conv2d(1, 20, kernel_size=(5, 5), stride=(1, 1))\n",
       "  (conv2): Conv2d(20, 50, kernel_size=(5, 5), stride=(1, 1))\n",
       "  (pool): MaxPool2d(kernel_size=2, stride=2, padding=0, dilation=1, ceil_mode=False)\n",
       "  (fc1): Linear(in_features=800, out_features=500, bias=True)\n",
       "  (fc2): Linear(in_features=500, out_features=10, bias=True)\n",
       ")"
      ]
     },
     "execution_count": 8,
     "metadata": {},
     "output_type": "execute_result"
    }
   ],
   "source": [
    "# Create Feedback Alignment model\n",
    "model_fa = LeNet()\n",
    "model_fa.apply(add_fa_weight_matrices)\n",
    "model_fa.apply(override_backward)"
   ]
  },
  {
   "cell_type": "code",
   "execution_count": 9,
   "id": "banned-member",
   "metadata": {},
   "outputs": [],
   "source": [
    "# Create optimizers\n",
    "loss_crossentropy = torch.nn.CrossEntropyLoss()\n",
    "optimizer_fa = torch.optim.RMSprop(model_fa.parameters(), lr=1e-4, weight_decay=0.)\n",
    "optimizer_bp = torch.optim.RMSprop(model_bp.parameters(), lr=1e-4, weight_decay=0.)"
   ]
  },
  {
   "cell_type": "code",
   "execution_count": 10,
   "id": "facial-court",
   "metadata": {},
   "outputs": [],
   "source": [
    "logger_train = open('results' + 'bp_vs_fa.txt', 'w')"
   ]
  },
  {
   "cell_type": "code",
   "execution_count": 12,
   "id": "fundamental-strain",
   "metadata": {},
   "outputs": [
    {
     "name": "stdout",
     "output_type": "stream",
     "text": [
      "epoch 0 step 100 loss_fa 0.12437755614519119 loss_bp 0.008606676012277603\n",
      " time_fa 0.008363008499145508 time_bp 0.006242036819458008\n",
      "0.0021209716796875\n",
      "epoch 0 step 200 loss_fa 0.21762007474899292 loss_bp 0.05049574002623558\n",
      " time_fa 0.009228944778442383 time_bp 0.006242036819458008\n",
      "0.002986907958984375\n",
      "epoch 0 step 300 loss_fa 0.24455222487449646 loss_bp 0.077779121696949\n",
      " time_fa 0.008696556091308594 time_bp 0.006389141082763672\n",
      "0.002307415008544922\n",
      "epoch 0 step 400 loss_fa 0.32020407915115356 loss_bp 0.18049514293670654\n",
      " time_fa 0.009351491928100586 time_bp 0.005378246307373047\n",
      "0.003973245620727539\n",
      "epoch 0 step 500 loss_fa 0.15975359082221985 loss_bp 0.06126094236969948\n",
      " time_fa 0.008693695068359375 time_bp 0.00639033317565918\n",
      "0.0023033618927001953\n",
      "epoch 0 step 600 loss_fa 0.22966253757476807 loss_bp 0.007768119685351849\n",
      " time_fa 0.009076356887817383 time_bp 0.00702977180480957\n",
      "0.0020465850830078125\n",
      "epoch 0 step 700 loss_fa 0.2555553913116455 loss_bp 0.02789762057363987\n",
      " time_fa 0.010265111923217773 time_bp 0.007197856903076172\n",
      "0.0030672550201416016\n",
      "epoch 0 step 800 loss_fa 0.15583786368370056 loss_bp 0.02998223528265953\n",
      " time_fa 0.009760618209838867 time_bp 0.0057964324951171875\n",
      "0.00396418571472168\n",
      "epoch 0 step 900 loss_fa 0.29179614782333374 loss_bp 0.031301677227020264\n",
      " time_fa 0.009650707244873047 time_bp 0.005705833435058594\n",
      "0.003944873809814453\n",
      "epoch 0 step 1000 loss_fa 0.11898261308670044 loss_bp 0.008558633737266064\n",
      " time_fa 0.01439046859741211 time_bp 0.010759592056274414\n",
      "0.0036308765411376953\n",
      "epoch 0 step 1100 loss_fa 0.19769538938999176 loss_bp 0.08962711691856384\n",
      " time_fa 0.010110616683959961 time_bp 0.006778717041015625\n",
      "0.003331899642944336\n",
      "epoch 0 step 1200 loss_fa 0.2341926246881485 loss_bp 0.1501055210828781\n",
      " time_fa 0.010025262832641602 time_bp 0.008581161499023438\n",
      "0.001444101333618164\n",
      "epoch 0 step 1300 loss_fa 0.07444526255130768 loss_bp 0.041576534509658813\n",
      " time_fa 0.009635448455810547 time_bp 0.006325483322143555\n",
      "0.003309965133666992\n",
      "epoch 0 step 1400 loss_fa 0.05547015741467476 loss_bp 0.006100814323872328\n",
      " time_fa 0.008727073669433594 time_bp 0.006613969802856445\n",
      "0.0021131038665771484\n",
      "epoch 0 step 1500 loss_fa 0.1910737156867981 loss_bp 0.010443746112287045\n",
      " time_fa 0.009766578674316406 time_bp 0.006820201873779297\n",
      "0.0029463768005371094\n",
      "epoch 0 step 1600 loss_fa 0.4142473340034485 loss_bp 0.05581042915582657\n",
      " time_fa 0.009557962417602539 time_bp 0.0055980682373046875\n",
      "0.0039598941802978516\n",
      "epoch 0 step 1700 loss_fa 0.06347371637821198 loss_bp 0.008311057463288307\n",
      " time_fa 0.009968757629394531 time_bp 0.006694793701171875\n",
      "0.0032739639282226562\n",
      "epoch 0 step 1800 loss_fa 0.08518880605697632 loss_bp 0.03439881652593613\n",
      " time_fa 0.009177684783935547 time_bp 0.007356405258178711\n",
      "0.001821279525756836\n",
      "\n",
      "[Epoch 0] Test results\n",
      "\tFA: Avg. loss: -8.7296, Accuracy: 9503/10000 (95%)\n",
      "\tBP: Avg. loss: -10.5164, Accuracy: 9848/10000 (98%)\n",
      "\n"
     ]
    }
   ],
   "source": [
    "epochs = 1\n",
    "for epoch in range(epochs):\n",
    "    for idx_batch, (inputs, targets) in enumerate(train_loader):\n",
    "        # flatten the inputs from square image to 1d vector\n",
    "        #inputs = inputs.view(batch_size, -1)\n",
    "        # wrap them into varaibles\n",
    "        inputs, targets = Variable(inputs), Variable(targets)\n",
    "        # get outputs from the model\n",
    "        #print(\"inputs = \", inputs.size())\n",
    "        outputs_fa = model_fa(inputs)\n",
    "        outputs_bp = model_bp(inputs)\n",
    "        # print(outputs_fa.size())\n",
    "        # print(outputs_bp.size())\n",
    "        # calculate loss\n",
    "        outputs_fa = torch.squeeze(outputs_fa)\n",
    "        outputs_bp = torch.squeeze(outputs_bp)\n",
    "        # print(outputs_fa.size())\n",
    "        # print(outputs_bp.size())\n",
    "\n",
    "        # print(\"-\"*20)\n",
    "        #print(\"targets.size() = \", targets.size())\n",
    "        # input()\n",
    "        \n",
    "        loss_bp = loss_crossentropy(outputs_bp, targets)\n",
    "        loss_fa = loss_crossentropy(outputs_fa, targets)\n",
    "        # print(loss_bp, loss_fa)\n",
    "        \n",
    "        t_fa = time.time()\n",
    "        model_fa.zero_grad()\n",
    "        loss_fa.backward()\n",
    "        optimizer_fa.step()\n",
    "        t_avg_fa = time.time() - t_fa\n",
    "    \n",
    "        t_bp = time.time()\n",
    "        model_bp.zero_grad()\n",
    "        loss_bp.backward()\n",
    "        optimizer_bp.step()\n",
    "        t_avg_bp = time.time() - t_bp\n",
    "\n",
    "        if (idx_batch + 1) % 100 == 0:\n",
    "            train_log = 'epoch ' + str(epoch) + ' step ' + str(idx_batch + 1) + \\\n",
    "                        ' loss_fa ' + str(loss_fa.data.item()) + ' loss_bp ' + str(loss_bp.data.item())\n",
    "                         \n",
    "            times = ' time_fa '+ str(t_avg_fa) + ' time_bp ' + str(t_avg_bp)\n",
    "            time_dif = t_avg_fa - t_avg_bp\n",
    "            print(train_log)\n",
    "            print(times)\n",
    "            print(time_dif)\n",
    "            logger_train.write(train_log + '\\n')\n",
    "\n",
    "    # Test models\n",
    "    test_loss_fa, correct_fa = test(model_fa, test_loader, batch_size)    \n",
    "    test_loss_bp, correct_bp = test(model_bp, test_loader, batch_size)\n",
    "\n",
    "    print('\\n[Epoch {}] Test results'.format(epoch))\n",
    "    print('\\tFA: Avg. loss: {:.4f}, Accuracy: {}/{} ({:.0f}%)'.format(test_loss_fa,\n",
    "                                                                      correct_fa, len(test_loader.dataset), 100. * correct_fa / len(test_loader.dataset)))\n",
    "    print('\\tBP: Avg. loss: {:.4f}, Accuracy: {}/{} ({:.0f}%)\\n'.format(test_loss_bp,\n",
    "                                                                        correct_bp, len(test_loader.dataset), 100. * correct_bp / len(test_loader.dataset)))"
   ]
  },
  {
   "cell_type": "code",
   "execution_count": null,
   "id": "joint-camera",
   "metadata": {},
   "outputs": [],
   "source": []
  }
 ],
 "metadata": {
  "kernelspec": {
   "display_name": ".venv",
   "language": "python",
   "name": ".venv"
  },
  "language_info": {
   "codemirror_mode": {
    "name": "ipython",
    "version": 3
   },
   "file_extension": ".py",
   "mimetype": "text/x-python",
   "name": "python",
   "nbconvert_exporter": "python",
   "pygments_lexer": "ipython3",
   "version": "3.6.9"
  }
 },
 "nbformat": 4,
 "nbformat_minor": 5
}
